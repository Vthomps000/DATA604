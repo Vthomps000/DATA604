{
 "cells": [
  {
   "cell_type": "markdown",
   "metadata": {},
   "source": [
    "## Week 5: Case Studies and Epidemiology"
   ]
  },
  {
   "cell_type": "markdown",
   "metadata": {},
   "source": [
    "Vanita Thompson"
   ]
  },
  {
   "cell_type": "markdown",
   "metadata": {},
   "source": [
    "### Discussion Prompt"
   ]
  },
  {
   "cell_type": "markdown",
   "metadata": {},
   "source": [
    "1.  How would you model the spread of COVID19 throughout the world?  What would be problematic about doing so?\n",
    "\n",
    "2.  Share some code from last week that was particularly rewarding or frustrating.  We will comment on it. "
   ]
  },
  {
   "cell_type": "markdown",
   "metadata": {},
   "source": [
    "### Discussion"
   ]
  },
  {
   "cell_type": "markdown",
   "metadata": {},
   "source": [
    "1. I would build a simulation model similar to the US Census simulation from our previous assignment. I would model the viral spread of each country/state vs the worldide population. An issue with ths model is that it doesn't account for people who have travelled outside of their hometown. \n",
    "\n",
    "2. I found the article from last week's assignment to be rewarding. I live in New York, where gas prices can be steep, it was interesting to see the cost comparison between hybrid and electric vehicles. Due to the rise in eletric cars like Tesla, energy cost projections provided insight on the oulook of owning an elecric car vs owning a hybrid.\n"
   ]
  }
 ],
 "metadata": {
  "kernelspec": {
   "display_name": "Python 3",
   "language": "python",
   "name": "python3"
  },
  "language_info": {
   "codemirror_mode": {
    "name": "ipython",
    "version": 3
   },
   "file_extension": ".py",
   "mimetype": "text/x-python",
   "name": "python",
   "nbconvert_exporter": "python",
   "pygments_lexer": "ipython3",
   "version": "3.7.6"
  }
 },
 "nbformat": 4,
 "nbformat_minor": 4
}
