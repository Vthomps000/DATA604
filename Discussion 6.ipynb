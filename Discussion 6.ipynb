{
 "cells": [
  {
   "cell_type": "markdown",
   "metadata": {},
   "source": [
    "## Week 6: Optimization"
   ]
  },
  {
   "cell_type": "markdown",
   "metadata": {},
   "source": [
    "Vanita Thompson"
   ]
  },
  {
   "cell_type": "markdown",
   "metadata": {},
   "source": [
    "### Discussion Prompt"
   ]
  },
  {
   "cell_type": "markdown",
   "metadata": {},
   "source": [
    "1.  What are response surface curves?  How do they help in visualizing optimization?  \n",
    "\n",
    "\n",
    "2.  Share some code from last week that was particularly rewarding or frustrating.  We will comment on it. "
   ]
  },
  {
   "cell_type": "markdown",
   "metadata": {},
   "source": [
    "### Discussion"
   ]
  },
  {
   "cell_type": "markdown",
   "metadata": {},
   "source": [
    "1. A response surface curve is a visual representation that explores the relationship between explanatory variables and response variables. The plot represents the response surface methodology that attempts to identify a response based on the variables. The curve displays values in colors across a gradient to represent the continuity of the respone values. The technique is used to optimize the settings or weights of the variables for continuous model improvement. The visualization can help to evaluate if the optimal value is in optimal range. \n",
    "\n",
    "2. The problem from last week that was rewarding is the exponential plot curve that models the population curve below. I like to see data on the change in population. It provides insights on how our population has exanded."
   ]
  },
  {
   "cell_type": "code",
   "execution_count": null,
   "metadata": {},
   "outputs": [],
   "source": [
    "xs = linspace(100, 1950)\n",
    "ys = 110 + 200000 / (2040 - xs)\n",
    "table1.plot()\n",
    "plot(xs, ys, color='gray', label='model')\n",
    "\n",
    "decorate(xlim=[0, 2000], xlabel='Year', \n",
    "         ylabel='World population (millions)',\n",
    "         title='CE population estimates')\n",
    "plt.legend(fontsize='small');"
   ]
  }
 ],
 "metadata": {
  "kernelspec": {
   "display_name": "Python 3",
   "language": "python",
   "name": "python3"
  },
  "language_info": {
   "codemirror_mode": {
    "name": "ipython",
    "version": 3
   },
   "file_extension": ".py",
   "mimetype": "text/x-python",
   "name": "python",
   "nbconvert_exporter": "python",
   "pygments_lexer": "ipython3",
   "version": "3.7.6"
  }
 },
 "nbformat": 4,
 "nbformat_minor": 4
}
