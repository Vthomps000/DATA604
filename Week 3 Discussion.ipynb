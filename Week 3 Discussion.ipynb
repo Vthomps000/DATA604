{
 "cells": [
  {
   "cell_type": "markdown",
   "metadata": {},
   "source": [
    "## Week 3: Growth Models"
   ]
  },
  {
   "cell_type": "markdown",
   "metadata": {},
   "source": [
    "Vanita Thompson"
   ]
  },
  {
   "cell_type": "markdown",
   "metadata": {},
   "source": [
    "### Prompt"
   ]
  },
  {
   "cell_type": "markdown",
   "metadata": {},
   "source": [
    "1.  In simulation, what is verification?  What is validation?  How do they differ?  What was done in the assigned simulation journal reading to conduct V&V?\n",
    "\n",
    "2.  Share some code from last week that was particularly rewarding or frustrating.  We will comment on it. "
   ]
  },
  {
   "cell_type": "markdown",
   "metadata": {},
   "source": [
    "### Discussion"
   ]
  },
  {
   "cell_type": "markdown",
   "metadata": {},
   "source": [
    "1. Verification and validation is an iterative process that takes place throughout the development of a model. They are conducted  to produce an accurate and credible model. In simulation, verification of a model is the process of confirming it is correctly implemented with respect to the conceptual model. Various techniques are used to assure the model matches specifications and assumptions of the conceptual model. Validation checks the accuracy of the model's representation of the real system. \n",
    "\n",
    "  The authors of the journal addressed verification and validation. The article included a model code that provides transparency and verification of the model itself. The results of the simulation do fall into the accepted margin of error. The simulation run estimates indicate the model is behaving as the specifications intended. For validation, the authors did base parameter values on data collected from Operation Iraqi Freedom."
   ]
  },
  {
   "cell_type": "markdown",
   "metadata": {},
   "source": [
    "2. I found the below code rewarding. It was interesting to see a series based object used with a loop."
   ]
  },
  {
   "cell_type": "code",
   "execution_count": 3,
   "metadata": {},
   "outputs": [
    {
     "ename": "NameError",
     "evalue": "name 'sweep' is not defined",
     "output_type": "error",
     "traceback": [
      "\u001b[1;31m---------------------------------------------------------------------------\u001b[0m",
      "\u001b[1;31mNameError\u001b[0m                                 Traceback (most recent call last)",
      "\u001b[1;32m<ipython-input-3-f3ee2fc7fba5>\u001b[0m in \u001b[0;36m<module>\u001b[1;34m\u001b[0m\n\u001b[0;32m      5\u001b[0m       \u001b[1;32mreturn\u001b[0m \u001b[1;34m\" key doesn't exist\"\u001b[0m\u001b[1;33m\u001b[0m\u001b[1;33m\u001b[0m\u001b[0m\n\u001b[0;32m      6\u001b[0m \u001b[1;33m\u001b[0m\u001b[0m\n\u001b[1;32m----> 7\u001b[1;33m \u001b[0mbest_p1\u001b[0m \u001b[1;33m=\u001b[0m \u001b[0mget_key\u001b[0m\u001b[1;33m(\u001b[0m\u001b[0msweep\u001b[0m\u001b[1;33m,\u001b[0m \u001b[0msweep\u001b[0m\u001b[1;33m.\u001b[0m\u001b[0mmin\u001b[0m\u001b[1;33m(\u001b[0m\u001b[1;33m)\u001b[0m\u001b[1;33m)\u001b[0m\u001b[1;33m\u001b[0m\u001b[1;33m\u001b[0m\u001b[0m\n\u001b[0m\u001b[0;32m      8\u001b[0m \u001b[1;33m\u001b[0m\u001b[0m\n\u001b[0;32m      9\u001b[0m \u001b[0mprint\u001b[0m\u001b[1;33m(\u001b[0m\u001b[1;34mf\"The p1 value with the least unhappy customers was {best_p1}\"\u001b[0m\u001b[1;33m)\u001b[0m\u001b[1;33m\u001b[0m\u001b[1;33m\u001b[0m\u001b[0m\n",
      "\u001b[1;31mNameError\u001b[0m: name 'sweep' is not defined"
     ]
    }
   ],
   "source": [
    "def get_key(series, val ):\n",
    "      for key, i in series.items() :\n",
    "              if val == i :\n",
    "                   return key\n",
    "      return \" key doesn't exist\"\n",
    "\n",
    "best_p1 = get_key(sweep, sweep.min())\n",
    "\n",
    "print(f\"The p1 value with the least unhappy customers was {best_p1}\")"
   ]
  }
 ],
 "metadata": {
  "kernelspec": {
   "display_name": "Python 3",
   "language": "python",
   "name": "python3"
  },
  "language_info": {
   "codemirror_mode": {
    "name": "ipython",
    "version": 3
   },
   "file_extension": ".py",
   "mimetype": "text/x-python",
   "name": "python",
   "nbconvert_exporter": "python",
   "pygments_lexer": "ipython3",
   "version": "3.7.6"
  }
 },
 "nbformat": 4,
 "nbformat_minor": 4
}
